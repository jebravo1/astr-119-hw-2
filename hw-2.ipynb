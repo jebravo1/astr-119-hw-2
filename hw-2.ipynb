{
 "cells": [
  {
   "cell_type": "code",
   "execution_count": null,
   "metadata": {},
   "outputs": [],
   "source": [
    "%matplotlib inline\n",
    "import numpy as np\n",
    "import matplotlib.pyplot as plt"
   ]
  },
  {
   "cell_type": "code",
   "execution_count": null,
   "metadata": {},
   "outputs": [],
   "source": [
    "x = np.linspace(0, 2*np.pi, 1000) #creates a sequence of number from 0 to 2pi with 1000 values\n",
    "\n",
    "y = 5.5*np.sin(x)                 #multiplies 5.5 times the sin of x(0,2pi)\n",
    "z = 0.02*np.exp(x)                #multiplies .02 time the e to the power of x(0,2pi)\n",
    "w = (0.25*(x**2))+(0.1*np.sin(10*x))    #multiplies .25 times x^2 and then adds it to .1 times the sin of 10x(0,2pi)\n",
    "\n",
    "plt.plot(x,y)           #plots y=f(x)\n",
    "plt.plot(x,z)           #plots z=f(x)\n",
    "plt.plot(x,w)           #plots x=f(x)\n",
    "\n",
    "plt.xlim([0, 2*np.pi])  #sets x limits\n",
    "plt.ylim(-1, 10)        #sets y limits\n",
    "\n",
    "plt.xlabel('Time in ASTR 119')       #makes x label\n",
    "plt.ylabel('Measurement of stress')  #makes y label\n"
   ]
  },
  {
   "cell_type": "code",
   "execution_count": null,
   "metadata": {},
   "outputs": [],
   "source": []
  }
 ],
 "metadata": {
  "kernelspec": {
   "display_name": "Python 3",
   "language": "python",
   "name": "python3"
  },
  "language_info": {
   "codemirror_mode": {
    "name": "ipython",
    "version": 3
   },
   "file_extension": ".py",
   "mimetype": "text/x-python",
   "name": "python",
   "nbconvert_exporter": "python",
   "pygments_lexer": "ipython3",
   "version": "3.6.5"
  }
 },
 "nbformat": 4,
 "nbformat_minor": 2
}
